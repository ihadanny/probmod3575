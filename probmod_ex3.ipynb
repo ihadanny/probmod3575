{
 "cells": [
  {
   "cell_type": "code",
   "execution_count": 1,
   "metadata": {},
   "outputs": [],
   "source": [
    "edges = {\n",
    "    (1,2):0.1,\n",
    "    (2,3):0.1,\n",
    "    (2,4):0.2,\n",
    "    (1,5):0.1,\n",
    "    (5,6):0.1,\n",
    "    (5,7):0.4,\n",
    "    (1,8):0.1,\n",
    "    (8,9):0.5,\n",
    "    (8,10):0.3,\n",
    "}"
   ]
  },
  {
   "cell_type": "code",
   "execution_count": 2,
   "metadata": {},
   "outputs": [],
   "source": [
    "def psi(u, v, u_val, v_val):\n",
    "    if u > v:\n",
    "        u, v = v, u\n",
    "    p = edges[(u, v)]\n",
    "    if u_val == v_val:\n",
    "        return 1-p\n",
    "    else:\n",
    "        return p\n"
   ]
  },
  {
   "cell_type": "code",
   "execution_count": 3,
   "metadata": {},
   "outputs": [],
   "source": [
    "from collections import defaultdict\n",
    "graph = defaultdict(list)\n",
    "for (u, v), p in edges.items():\n",
    "    graph[u].append(v)\n",
    "    graph[v].append(u)\n"
   ]
  },
  {
   "cell_type": "code",
   "execution_count": 4,
   "metadata": {},
   "outputs": [],
   "source": [
    "\n",
    "observed = {3:1,4:0,6:0,7:0,9:1,10:1}\n",
    "local_tables = {}\n",
    "marginal_tables = {}\n",
    "collect_msgs = {}\n",
    "\n",
    "def collect(v, u):\n",
    "    children = [child for child in graph[v] if child != u]\n",
    "    msgs = [collect(child, v) for child in children]\n",
    "    \n",
    "    # compute local table\n",
    "    local_table = [1, 1]\n",
    "    if v in observed:\n",
    "        local_table[1-observed[v]]=0\n",
    "    for x_v in [0, 1]:\n",
    "        for msg in msgs:\n",
    "            local_table[x_v] *= msg[x_v]\n",
    "    local_tables[v] = local_table\n",
    "    \n",
    "    # compute upward message \n",
    "    if u is None:\n",
    "        # v is root, no need to prepare a message\n",
    "        marginal_tables[v] = local_table\n",
    "        return None\n",
    "    else:\n",
    "        msg = [0, 0]\n",
    "        for x_u in [0, 1]:\n",
    "            for x_v in [0, 1]:\n",
    "                msg[x_u] += local_table[x_v]*psi(u, v, x_u, x_v)\n",
    "        collect_msgs[(v,u)] = msg\n",
    "        return msg\n",
    "\n",
    "def distribute(u, v):\n",
    "    children = [child for child in graph[v] if child != u]\n",
    "    if u is not None:\n",
    "        msg_uv = [0, 0]\n",
    "        marginal_tables[v] = [0, 0]\n",
    "        for x_v in [0, 1]:\n",
    "            # fix message v->u to message v->u \n",
    "            for x_u in [0, 1]:\n",
    "                msg_uv[x_v] += marginal_tables[u][x_u]/collect_msgs[(v,u)][x_u]*psi(u,v,x_u,x_v)\n",
    "            # final marginal table\n",
    "            marginal_tables[v][x_v] = local_tables[v][x_v]*msg_uv[x_v]\n",
    "    for child in children:\n",
    "        distribute(v, child)\n",
    "\n",
    "def normalize(table):\n",
    "    return [t/sum(table) for t in table]\n",
    "\n",
    "def collect_distribute(root):\n",
    "    local_tables.clear()\n",
    "    marginal_tables.clear()\n",
    "    collect_msgs.clear()\n",
    "    \n",
    "    collect(root, None)\n",
    "    distribute(None, root)\n",
    "    likelihood = sum(marginal_tables[root])\n",
    "    conditionals = {v: normalize(table) for v, table in \n",
    "                    marginal_tables.items() if v not in observed}\n",
    "    print(f\"root: {root}\")\n",
    "    print(f\"likelihood: {likelihood:.3f}\")\n",
    "    for v, table in sorted(conditionals.items()):\n",
    "        print(f\"p({v}) = [{table[0]:.2f}, {table[1]:.2f}]\")\n"
   ]
  },
  {
   "cell_type": "code",
   "execution_count": 5,
   "metadata": {},
   "outputs": [
    {
     "name": "stdout",
     "output_type": "stream",
     "text": [
      "root: 1\n",
      "likelihood: 0.012\n",
      "p(1) = [0.21, 0.79]\n",
      "p(2) = [0.36, 0.64]\n",
      "p(5) = [0.14, 0.86]\n",
      "p(8) = [0.20, 0.80]\n",
      "root: 2\n",
      "likelihood: 0.012\n",
      "p(1) = [0.21, 0.79]\n",
      "p(2) = [0.36, 0.64]\n",
      "p(5) = [0.14, 0.86]\n",
      "p(8) = [0.20, 0.80]\n",
      "root: 6\n",
      "likelihood: 0.012\n",
      "p(1) = [0.21, 0.79]\n",
      "p(2) = [0.36, 0.64]\n",
      "p(5) = [0.14, 0.86]\n",
      "p(8) = [0.20, 0.80]\n"
     ]
    }
   ],
   "source": [
    "observed = {3:0,4:1,6:1,7:0,9:0,10:1}\n",
    "for root in [1,2,6]:\n",
    "    collect_distribute(root)"
   ]
  },
  {
   "cell_type": "code",
   "execution_count": 6,
   "metadata": {},
   "outputs": [
    {
     "name": "stdout",
     "output_type": "stream",
     "text": [
      "root: 1\n",
      "likelihood: 0.020\n",
      "p(1) = [0.50, 0.50]\n",
      "p(2) = [0.90, 0.10]\n",
      "p(5) = [0.31, 0.69]\n",
      "p(8) = [0.42, 0.58]\n",
      "root: 2\n",
      "likelihood: 0.020\n",
      "p(1) = [0.50, 0.50]\n",
      "p(2) = [0.90, 0.10]\n",
      "p(5) = [0.31, 0.69]\n",
      "p(8) = [0.42, 0.58]\n",
      "root: 6\n",
      "likelihood: 0.020\n",
      "p(1) = [0.50, 0.50]\n",
      "p(2) = [0.90, 0.10]\n",
      "p(5) = [0.31, 0.69]\n",
      "p(8) = [0.42, 0.58]\n"
     ]
    }
   ],
   "source": [
    "observed = {3:0,4:0,6:1,7:0,9:0,10:1}\n",
    "for root in [1,2,6]:\n",
    "    collect_distribute(root)"
   ]
  },
  {
   "cell_type": "code",
   "execution_count": 7,
   "metadata": {},
   "outputs": [
    {
     "name": "stdout",
     "output_type": "stream",
     "text": [
      "root: 1\n",
      "likelihood: 0.106\n",
      "p(1) = [0.01, 0.99]\n",
      "p(2) = [0.01, 0.99]\n",
      "p(5) = [0.01, 0.99]\n",
      "p(8) = [0.06, 0.94]\n",
      "root: 2\n",
      "likelihood: 0.106\n",
      "p(1) = [0.01, 0.99]\n",
      "p(2) = [0.01, 0.99]\n",
      "p(5) = [0.01, 0.99]\n",
      "p(8) = [0.06, 0.94]\n",
      "root: 6\n",
      "likelihood: 0.106\n",
      "p(1) = [0.01, 0.99]\n",
      "p(2) = [0.01, 0.99]\n",
      "p(5) = [0.01, 0.99]\n",
      "p(8) = [0.06, 0.94]\n"
     ]
    }
   ],
   "source": [
    "observed = {3:1,4:1,6:1,7:1,9:1,10:1}\n",
    "for root in [1,2,6]:\n",
    "    collect_distribute(root)"
   ]
  },
  {
   "cell_type": "code",
   "execution_count": 8,
   "metadata": {},
   "outputs": [],
   "source": [
    "retrieval_tables = {}\n",
    "max_prob_assignment = {}\n",
    "\n",
    "def collect2(v, u):\n",
    "    children = [child for child in graph[v] if child != u]\n",
    "    msgs = [collect2(child, v) for child in children]\n",
    "    \n",
    "    # compute local table\n",
    "    local_table = [1, 1]\n",
    "    if v in observed:\n",
    "        local_table[1-observed[v]]=0\n",
    "    for x_v in [0, 1]:\n",
    "        for msg in msgs:\n",
    "            local_table[x_v] *= msg[x_v]\n",
    "    \n",
    "    # compute upward message \n",
    "    if u is None:\n",
    "        # v is root, return the max probability \n",
    "        for x_v in [0, 1]:\n",
    "            if local_table[x_v] == max(local_table):\n",
    "                max_prob_assignment[v] = x_v\n",
    "                break\n",
    "        return max(local_table)\n",
    "    else:\n",
    "        msg = [0, 0]\n",
    "        retrieval_tables[v] = [None, None]\n",
    "        for x_u in [0, 1]:\n",
    "            for x_v in [0, 1]:\n",
    "                candidate = local_table[x_v]*psi(u, v, x_u, x_v)\n",
    "                if candidate > msg[x_u]:\n",
    "                    msg[x_u] = candidate\n",
    "                    retrieval_tables[v][x_u] = x_v\n",
    "        return msg\n",
    "\n",
    "def distribute2(u, v):\n",
    "    children = [child for child in graph[v] if child != u]\n",
    "    if u is not None:\n",
    "        max_prob_assignment[v] = retrieval_tables[v][max_prob_assignment[u]]\n",
    "    for child in children:\n",
    "        distribute2(v, child)\n",
    "\n",
    "def collect_distribute2(root):\n",
    "    local_tables.clear()\n",
    "    retrieval_tables.clear()\n",
    "    max_prob_assignment.clear()\n",
    "    \n",
    "    max_prob = collect2(root, None)\n",
    "    distribute2(None, root)\n",
    "    print(f\"root: {root}\")\n",
    "    print(f\"max_prob: {max_prob:.4f}\")\n",
    "    for v, v_val in sorted(max_prob_assignment.items()):\n",
    "        if v not in observed:\n",
    "            print(f\"x_{v}* = {v_val}\")\n"
   ]
  },
  {
   "cell_type": "code",
   "execution_count": 9,
   "metadata": {},
   "outputs": [
    {
     "name": "stdout",
     "output_type": "stream",
     "text": [
      "root: 1\n",
      "max_prob: 0.0073\n",
      "x_1* = 1\n",
      "x_2* = 1\n",
      "x_5* = 1\n",
      "x_8* = 1\n",
      "root: 2\n",
      "max_prob: 0.0073\n",
      "x_1* = 1\n",
      "x_2* = 1\n",
      "x_5* = 1\n",
      "x_8* = 1\n",
      "root: 6\n",
      "max_prob: 0.0073\n",
      "x_1* = 1\n",
      "x_2* = 1\n",
      "x_5* = 1\n",
      "x_8* = 1\n"
     ]
    }
   ],
   "source": [
    "observed = {3:0,4:1,6:1,7:0,9:0,10:1}\n",
    "for root in [1,2,6]:\n",
    "    collect_distribute2(root)"
   ]
  },
  {
   "cell_type": "code",
   "execution_count": 10,
   "metadata": {},
   "outputs": [
    {
     "name": "stdout",
     "output_type": "stream",
     "text": [
      "root: 1\n",
      "max_prob: 0.0073\n",
      "x_1* = 1\n",
      "x_2* = 0\n",
      "x_5* = 1\n",
      "x_8* = 1\n",
      "root: 2\n",
      "max_prob: 0.0073\n",
      "x_1* = 1\n",
      "x_2* = 0\n",
      "x_5* = 1\n",
      "x_8* = 1\n",
      "root: 6\n",
      "max_prob: 0.0073\n",
      "x_1* = 1\n",
      "x_2* = 0\n",
      "x_5* = 1\n",
      "x_8* = 1\n"
     ]
    }
   ],
   "source": [
    "observed = {3:0,4:0,6:1,7:0,9:0,10:1}\n",
    "for root in [1,2,6]:\n",
    "    collect_distribute2(root)"
   ]
  },
  {
   "cell_type": "code",
   "execution_count": 11,
   "metadata": {},
   "outputs": [
    {
     "name": "stdout",
     "output_type": "stream",
     "text": [
      "root: 1\n",
      "max_prob: 0.0992\n",
      "x_1* = 1\n",
      "x_2* = 1\n",
      "x_5* = 1\n",
      "x_8* = 1\n",
      "root: 2\n",
      "max_prob: 0.0992\n",
      "x_1* = 1\n",
      "x_2* = 1\n",
      "x_5* = 1\n",
      "x_8* = 1\n",
      "root: 6\n",
      "max_prob: 0.0992\n",
      "x_1* = 1\n",
      "x_2* = 1\n",
      "x_5* = 1\n",
      "x_8* = 1\n"
     ]
    }
   ],
   "source": [
    "observed = {3:1,4:1,6:1,7:1,9:1,10:1}\n",
    "for root in [1,2,6]:\n",
    "    collect_distribute2(root)"
   ]
  },
  {
   "cell_type": "code",
   "execution_count": null,
   "metadata": {},
   "outputs": [],
   "source": []
  }
 ],
 "metadata": {
  "kernelspec": {
   "display_name": "dp_venv",
   "language": "python",
   "name": "dp_venv"
  },
  "language_info": {
   "codemirror_mode": {
    "name": "ipython",
    "version": 3
   },
   "file_extension": ".py",
   "mimetype": "text/x-python",
   "name": "python",
   "nbconvert_exporter": "python",
   "pygments_lexer": "ipython3",
   "version": "3.7.3"
  }
 },
 "nbformat": 4,
 "nbformat_minor": 2
}
